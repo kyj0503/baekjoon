{
 "cells": [
  {
   "cell_type": "code",
   "execution_count": 4,
   "id": "1546102a-5e67-4ea8-aa9d-6a65d6152fc1",
   "metadata": {},
   "outputs": [
    {
     "ename": "ValueError",
     "evalue": "invalid literal for int() with base 10: ''",
     "output_type": "error",
     "traceback": [
      "\u001b[1;31m---------------------------------------------------------------------------\u001b[0m",
      "\u001b[1;31mValueError\u001b[0m                                Traceback (most recent call last)",
      "Cell \u001b[1;32mIn[4], line 3\u001b[0m\n\u001b[0;32m      1\u001b[0m \u001b[38;5;28;01mimport\u001b[39;00m \u001b[38;5;21;01msys\u001b[39;00m\n\u001b[0;32m      2\u001b[0m \u001b[38;5;28minput\u001b[39m \u001b[38;5;241m=\u001b[39m sys\u001b[38;5;241m.\u001b[39mstdin\u001b[38;5;241m.\u001b[39mreadline\n\u001b[1;32m----> 3\u001b[0m m \u001b[38;5;241m=\u001b[39m \u001b[38;5;28mint\u001b[39m(\u001b[38;5;28minput\u001b[39m())\n\u001b[0;32m      4\u001b[0m s \u001b[38;5;241m=\u001b[39m \u001b[38;5;28mset\u001b[39m()\n\u001b[0;32m      5\u001b[0m \u001b[38;5;28;01mfor\u001b[39;00m _ \u001b[38;5;129;01min\u001b[39;00m \u001b[38;5;28mrange\u001b[39m(m):\n",
      "\u001b[1;31mValueError\u001b[0m: invalid literal for int() with base 10: ''"
     ]
    }
   ],
   "source": [
    "import sys\n",
    "input = sys.stdin.readline\n",
    "m = int(input())\n",
    "s = set()\n",
    "for _ in range(m):\n",
    "  arr = list(input().split())\n",
    "  c = arr[0]\n",
    "  if c == 'add':\n",
    "    s.add(int(arr[1]))\n",
    "  elif c == 'remove':\n",
    "    try:\n",
    "      s.remove(int(arr[1]))\n",
    "    except:\n",
    "      pass\n",
    "  elif c == 'check':\n",
    "    if int(arr[1]) in s:\n",
    "        print(1)\n",
    "    else:\n",
    "      print(0)\n",
    "  elif c == 'toggle':\n",
    "    if int(arr[1]) in s:\n",
    "      s.remove(int(arr[1]))\n",
    "    else:\n",
    "      s.add(int(arr[1]))\n",
    "  elif c == 'all':\n",
    "    s = set([i for i in range(1,21)])\n",
    "  else:\n",
    "    s = set()"
   ]
  },
  {
   "cell_type": "code",
   "execution_count": null,
   "id": "d454cc5e-d450-443c-b43d-c6b831168699",
   "metadata": {},
   "outputs": [],
   "source": []
  },
  {
   "cell_type": "code",
   "execution_count": null,
   "id": "03295281-0c1f-42f5-b74b-227428a890db",
   "metadata": {},
   "outputs": [],
   "source": []
  },
  {
   "cell_type": "code",
   "execution_count": null,
   "id": "dc27a3cd-2c99-47ce-bc6d-00044bed7a36",
   "metadata": {},
   "outputs": [],
   "source": []
  },
  {
   "cell_type": "code",
   "execution_count": null,
   "id": "6c295348-5efe-432c-bc4f-08f4402e20b1",
   "metadata": {},
   "outputs": [],
   "source": []
  },
  {
   "cell_type": "code",
   "execution_count": null,
   "id": "d3466ab4-7a58-4714-833a-5b7c11fc5fb6",
   "metadata": {},
   "outputs": [],
   "source": []
  },
  {
   "cell_type": "code",
   "execution_count": null,
   "id": "80184b60-64c7-4a8a-9adc-40fb82875319",
   "metadata": {},
   "outputs": [],
   "source": []
  },
  {
   "cell_type": "code",
   "execution_count": null,
   "id": "00729f45-7704-453e-b5c0-9a15f8492ae0",
   "metadata": {},
   "outputs": [],
   "source": []
  }
 ],
 "metadata": {
  "kernelspec": {
   "display_name": "Python 3 (ipykernel)",
   "language": "python",
   "name": "python3"
  },
  "language_info": {
   "codemirror_mode": {
    "name": "ipython",
    "version": 3
   },
   "file_extension": ".py",
   "mimetype": "text/x-python",
   "name": "python",
   "nbconvert_exporter": "python",
   "pygments_lexer": "ipython3",
   "version": "3.11.7"
  }
 },
 "nbformat": 4,
 "nbformat_minor": 5
}
