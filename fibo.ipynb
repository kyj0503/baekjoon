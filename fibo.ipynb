{
 "cells": [
  {
   "cell_type": "code",
   "execution_count": null,
   "metadata": {},
   "outputs": [],
   "source": [
    "def fibo(n):\n",
    "    SIZE = 2\n",
    "    ZERO = [[1, 0], [0, 1]] # 행렬의 항등원\n",
    "    BASE = [[1, 1], [1, 0]] # 곱셈을 시작해 나갈 기본 행렬\n",
    "\n",
    "    # 두 행렬의 곱을 구한다\n",
    "    def square_matrix_mul(a, b, size=SIZE):\n",
    "        new = [[0 for _ in range(size)] for _ in range(size)]\n",
    "\n",
    "        for i in range(size):\n",
    "            for j in range(size):\n",
    "                for k in range(size):\n",
    "                    new[i][j] += a[i][k] * b[k][j]\n",
    "\n",
    "        return new\n",
    "\n",
    "    # 기본 행렬을 n번 곱한 행렬을 만든다\n",
    "    def get_nth(n):\n",
    "        matrix = ZERO.copy()\n",
    "        k = 0\n",
    "        tmp = BASE.copy()\n",
    "\n",
    "        while 2 ** k <= n:\n",
    "            if n & (1 << k) != 0:\n",
    "                matrix = square_matrix_mul(matrix, tmp)\n",
    "            k += 1\n",
    "            tmp = square_matrix_mul(tmp, tmp)\n",
    "\n",
    "        return matrix\n",
    "\n",
    "    return get_nth(n)[1][0]\n",
    "\n",
    "\n",
    "fibo(100)"
   ]
  }
 ],
 "metadata": {
  "language_info": {
   "name": "python"
  }
 },
 "nbformat": 4,
 "nbformat_minor": 2
}
